{
  "nbformat": 4,
  "nbformat_minor": 0,
  "metadata": {
    "colab": {
      "provenance": []
    },
    "kernelspec": {
      "name": "python3",
      "display_name": "Python 3"
    },
    "language_info": {
      "name": "python"
    }
  },
  "cells": [
    {
      "cell_type": "code",
      "source": [
        "from google.colab import files\n",
        "import numpy as np\n",
        "import pandas as pd\n",
        "import matplotlib.pyplot as plt\n",
        "import os\n",
        "import pylab\n",
        "from mpl_toolkits.mplot3d import Axes3D\n",
        "from google.colab import files\n",
        "from PIL import Image\n",
        "%matplotlib inline\n",
        "\n",
        "from tensorflow.keras import utils\n",
        "from tensorflow.keras.models import Sequential, Model\n",
        "from tensorflow.keras.layers import Dense, Dropout, SpatialDropout1D, BatchNormalization, Embedding, concatenate, Input, Flatten, Activation, LSTM\n",
        "from tensorflow.keras.preprocessing.text import Tokenizer\n",
        "from tensorflow.keras.preprocessing.sequence import pad_sequences\n",
        "from tensorflow.keras.datasets import mnist\n",
        "from tensorflow.keras.optimizers import Adam\n",
        "from tensorflow.keras.preprocessing import image\n",
        "from tensorflow.keras.preprocessing.sequence import TimeseriesGenerator\n",
        "from sklearn import preprocessing\n",
        "from sklearn.preprocessing import StandardScaler, MinMaxScaler\n",
        "\n",
        "from sklearn.preprocessing import LabelEncoder\n",
        "from sklearn.model_selection import train_test_split\n",
        "from google.colab import drive\n",
        "import time\n",
        "import math\n",
        "\n"
      ],
      "metadata": {
        "id": "ZfSJAIiRAxcX"
      },
      "execution_count": 1,
      "outputs": []
    },
    {
      "cell_type": "code",
      "source": [
        "#Диалог ВК был выгружен в виде архива, где каждая страница шла отдельным файлом txt.\n",
        "#Поэтому предварительно файлы были соединены в один в Windows PowerShell с помощью команды cmd/c copy 'путь файла\\1.txt' + 'путь файла\\2.txt'  'путь файла\\3.txt'"
      ],
      "metadata": {
        "id": "UMZJXDMsIKXr"
      },
      "execution_count": null,
      "outputs": []
    },
    {
      "cell_type": "code",
      "source": [
        "text = open('drive/MyDrive/Нейросети/messages.txt', 'r')\n",
        "print(text.read())"
      ],
      "metadata": {
        "id": "q_CiCGU2oHIu"
      },
      "execution_count": null,
      "outputs": []
    },
    {
      "cell_type": "code",
      "source": [
        "cur_time = time.time()\n",
        "maxWordsCount = 71000\n",
        "\n",
        "tokenizer = Tokenizer(num_words=maxWordsCount, filters='!\"#$%&()*+,-–—./…:;<=>?@[\\\\]^_`{|}~«»\\t\\n\\xa0\\ufeffqwertyuiopasdfghjklzxcvbnmQWERTYUIOPASDFGHJKLZXCVBNM', lower=True, split=' ', oov_token='unknown', char_level=False)\n"
      ],
      "metadata": {
        "id": "c1xvFyi2ZUoq"
      },
      "execution_count": 3,
      "outputs": []
    },
    {
      "cell_type": "code",
      "source": [
        "#Далее нужно было разделить файл по спикерам и сформировать отдельные файлы"
      ],
      "metadata": {
        "id": "lZA-0lPBJhsl"
      },
      "execution_count": null,
      "outputs": []
    },
    {
      "cell_type": "code",
      "source": [
        "def readText(fileName):\n",
        "  f = open(fileName, 'r')\n",
        "  text = f.read()\n",
        "  text = text.replace(\"\\n\", \" \")\n",
        "\n",
        "  return text\n",
        "\n",
        "className = ('Speaker1', 'Speaker2', 'Speaker3', 'Speaker4')\n",
        "nClasses = len(className)"
      ],
      "metadata": {
        "id": "pU7gOz8urQjr"
      },
      "execution_count": 4,
      "outputs": []
    },
    {
      "cell_type": "code",
      "source": [
        "data = readText('drive/MyDrive/Нейросети/messages.txt').split(',')\n",
        "\n",
        "all = {}\n",
        "for i in className:\n",
        "  all[i] = []\n",
        "  for j in data:\n",
        "    if i in j:\n",
        "      all[i].append(j)\n",
        "\n",
        "\n",
        "for i in all:\n",
        "  with open(f'{i}.txt', 'w') as file:\n",
        "        for j in all[i]:\n",
        "          file.write(j+\"\\n\")"
      ],
      "metadata": {
        "id": "LqNN8n_MS3qE"
      },
      "execution_count": 5,
      "outputs": []
    },
    {
      "cell_type": "code",
      "source": [
        "pip install aspose-words"
      ],
      "metadata": {
        "colab": {
          "base_uri": "https://localhost:8080/"
        },
        "id": "sE1DUW3Wf2ze",
        "outputId": "a31502e5-755f-40b7-ffb9-612dace2a495"
      },
      "execution_count": 6,
      "outputs": [
        {
          "output_type": "stream",
          "name": "stdout",
          "text": [
            "Looking in indexes: https://pypi.org/simple, https://us-python.pkg.dev/colab-wheels/public/simple/\n",
            "Collecting aspose-words\n",
            "  Downloading aspose_words-23.6.0-py3-none-manylinux1_x86_64.whl (83.8 MB)\n",
            "\u001b[2K     \u001b[90m━━━━━━━━━━━━━━━━━━━━━━━━━━━━━━━━━━━━━━━━\u001b[0m \u001b[32m83.8/83.8 MB\u001b[0m \u001b[31m8.4 MB/s\u001b[0m eta \u001b[36m0:00:00\u001b[0m\n",
            "\u001b[?25hInstalling collected packages: aspose-words\n",
            "Successfully installed aspose-words-23.6.0\n"
          ]
        }
      ]
    },
    {
      "cell_type": "code",
      "source": [
        "#Для обучения нейросети надо было также поделить каждый сформированный файл спикера на два: обучающую и тестовую выборки"
      ],
      "metadata": {
        "id": "3CSdKwIIJ7qN"
      },
      "execution_count": null,
      "outputs": []
    },
    {
      "cell_type": "code",
      "source": [
        "import math\n",
        "import itertools\n",
        "\n",
        "\n",
        "def openfile(filename):\n",
        "    with open(filename) as file_:\n",
        "        for i in file_:\n",
        "            yield i.strip()\n",
        "\n",
        "\n",
        "def file_split(filename, parts):\n",
        "\n",
        "    all_str = sum(1 for i in open('Speaker1.txt', 'r'))\n",
        "    count = math.ceil(all_str / parts)\n",
        "\n",
        "    offset = 0\n",
        "    chunks = []\n",
        "    for i in range(parts):\n",
        "        file_ = openfile('Speaker1.txt')\n",
        "        chunks.append((itertools.islice(file_, offset, offset + count)))\n",
        "        offset += count\n",
        "\n",
        "    return chunks\n",
        "\n",
        "\n",
        "def write_chunks(filename, chunks):\n",
        "    for index, data in enumerate(chunks):\n",
        "        with open('{}-{}.txt'.format('Speaker1.txt', index), 'w') as out:\n",
        "            list(map(lambda line: out.write('{}\\n'.format(line)), data))\n",
        "\n",
        "\n",
        "target = ['file1.txt', 'file2.txt', 'file3.txt', 'file4.txt', 'file5.txt', 'file6.txt']\n",
        "for i in target:\n",
        "    chunks = file_split(i, 6)\n",
        "    write_chunks(i, chunks)"
      ],
      "metadata": {
        "id": "7Kyh00LB2gUK"
      },
      "execution_count": 7,
      "outputs": []
    },
    {
      "cell_type": "code",
      "source": [
        "filenames = ['Speaker1.txt-0.txt', 'Speaker1.txt-1.txt', 'Speaker1.txt-2.txt', 'Speaker1.txt-3.txt']\n",
        "with open('/content/Speaker1_Обучающая', 'w') as outfile:\n",
        "    for fname in filenames:\n",
        "        with open(fname) as infile:\n",
        "            for line in infile:\n",
        "                outfile.write(line)"
      ],
      "metadata": {
        "id": "Ol8dj4cTWbOO"
      },
      "execution_count": 8,
      "outputs": []
    },
    {
      "cell_type": "code",
      "source": [
        "def openfile(filename):\n",
        "    with open(filename) as file_:\n",
        "        for i in file_:\n",
        "            yield i.strip()\n",
        "\n",
        "\n",
        "def file_split(filename, parts):\n",
        "\n",
        "    all_str = sum(1 for i in open('Speaker2.txt', 'r'))\n",
        "    count = math.ceil(all_str / parts)\n",
        "\n",
        "    offset = 0\n",
        "    chunks = []\n",
        "    for i in range(parts):\n",
        "        file_ = openfile('Speaker2.txt')\n",
        "        chunks.append((itertools.islice(file_, offset, offset + count)))\n",
        "        offset += count\n",
        "\n",
        "    return chunks\n",
        "\n",
        "\n",
        "def write_chunks(filename, chunks):\n",
        "    for index, data in enumerate(chunks):\n",
        "        with open('{}-{}.txt'.format('Speaker2.txt', index), 'w') as out:\n",
        "            list(map(lambda line: out.write('{}\\n'.format(line)), data))\n",
        "\n",
        "\n",
        "target = ['file1.txt', 'file2.txt', 'file3.txt', 'file4.txt', 'file5.txt', 'file6.txt']\n",
        "for i in target:\n",
        "    chunks = file_split(i, 6)\n",
        "    write_chunks(i, chunks)"
      ],
      "metadata": {
        "id": "G5zmxDxM390N"
      },
      "execution_count": 9,
      "outputs": []
    },
    {
      "cell_type": "code",
      "source": [
        "filenames = ['Speaker2.txt-0.txt', 'Speaker2.txt-1.txt', 'Speaker2.txt-2.txt', 'Speaker2.txt-3.txt']\n",
        "with open('/content/Speaker2_Обучающая', 'w') as outfile:\n",
        "    for fname in filenames:\n",
        "        with open(fname) as infile:\n",
        "            for line in infile:\n",
        "                outfile.write(line)"
      ],
      "metadata": {
        "id": "EpuBVtopYCpI"
      },
      "execution_count": 10,
      "outputs": []
    },
    {
      "cell_type": "code",
      "source": [
        "def openfile(filename):\n",
        "    with open(filename) as file_:\n",
        "        for i in file_:\n",
        "            yield i.strip()\n",
        "\n",
        "\n",
        "def file_split(filename, parts):\n",
        "\n",
        "    all_str = sum(1 for i in open('Speaker3.txt', 'r'))\n",
        "    count = math.ceil(all_str / parts)\n",
        "\n",
        "    offset = 0\n",
        "    chunks = []\n",
        "    for i in range(parts):\n",
        "        file_ = openfile('Speaker3.txt')\n",
        "        chunks.append((itertools.islice(file_, offset, offset + count)))\n",
        "        offset += count\n",
        "\n",
        "    return chunks\n",
        "\n",
        "\n",
        "def write_chunks(filename, chunks):\n",
        "    for index, data in enumerate(chunks):\n",
        "        with open('{}-{}.txt'.format('Speaker3.txt', index), 'w') as out:\n",
        "            list(map(lambda line: out.write('{}\\n'.format(line)), data))\n",
        "\n",
        "\n",
        "target = ['file1.txt', 'file2.txt', 'file3.txt', 'file4.txt', 'file5.txt', 'file6.txt']\n",
        "for i in target:\n",
        "    chunks = file_split(i, 6)\n",
        "    write_chunks(i, chunks)"
      ],
      "metadata": {
        "id": "Ov1j5WtL3-UV"
      },
      "execution_count": 11,
      "outputs": []
    },
    {
      "cell_type": "code",
      "source": [
        "filenames = ['Speaker3.txt-0.txt', 'Speaker3.txt-1.txt', 'Speaker3.txt-2.txt', 'Speaker3.txt-3.txt']\n",
        "with open('/content/Speaker3_Обучающая', 'w') as outfile:\n",
        "    for fname in filenames:\n",
        "        with open(fname) as infile:\n",
        "            for line in infile:\n",
        "                outfile.write(line)"
      ],
      "metadata": {
        "id": "g_vluLsTYJG_"
      },
      "execution_count": 12,
      "outputs": []
    },
    {
      "cell_type": "code",
      "source": [
        "def openfile(filename):\n",
        "    with open(filename) as file_:\n",
        "        for i in file_:\n",
        "            yield i.strip()\n",
        "\n",
        "\n",
        "def file_split(filename, parts):\n",
        "\n",
        "    all_str = sum(1 for i in open('Speaker4.txt', 'r'))\n",
        "    count = math.ceil(all_str / parts)\n",
        "\n",
        "    offset = 0\n",
        "    chunks = []\n",
        "    for i in range(parts):\n",
        "        file_ = openfile('Speaker4.txt')\n",
        "        chunks.append((itertools.islice(file_, offset, offset + count)))\n",
        "        offset += count\n",
        "\n",
        "    return chunks\n",
        "\n",
        "\n",
        "def write_chunks(filename, chunks):\n",
        "    for index, data in enumerate(chunks):\n",
        "        with open('{}-{}.txt'.format('Speaker4.txt', index), 'w') as out:\n",
        "            list(map(lambda line: out.write('{}\\n'.format(line)), data))\n",
        "\n",
        "\n",
        "target = ['file1.txt', 'file2.txt', 'file3.txt', 'file4.txt', 'file5.txt', 'file6.txt']\n",
        "for i in target:\n",
        "    chunks = file_split(i, 6)\n",
        "    write_chunks(i, chunks)"
      ],
      "metadata": {
        "id": "dRq-Q4gJ3-_1"
      },
      "execution_count": 13,
      "outputs": []
    },
    {
      "cell_type": "code",
      "source": [
        "filenames = ['Speaker4.txt-0.txt', 'Speaker4.txt-1.txt', 'Speaker4.txt-2.txt', 'Speaker4.txt-3.txt']\n",
        "with open('/content/Speaker4_Обучающая', 'w') as outfile:\n",
        "    for fname in filenames:\n",
        "        with open(fname) as infile:\n",
        "            for line in infile:\n",
        "                outfile.write(line)"
      ],
      "metadata": {
        "id": "XPr9NMxrYNzJ"
      },
      "execution_count": 14,
      "outputs": []
    },
    {
      "cell_type": "code",
      "source": [
        "trainText = []\n",
        "testText = []\n",
        "\n",
        "\n",
        "for i in className:\n",
        "  for j in os.listdir('/content/'):\n",
        "    if i in j:\n",
        "\n",
        "      if 'Обучающая' in j:\n",
        "        trainText.append(readText('/content/' + j))\n",
        "        print(j, 'добавлен в обучающую выборку')\n",
        "      if 'txt-5' in j:\n",
        "        testText.append(readText('/content/' + j))\n",
        "        print(j, 'добавлен в тестовую выборку')\n",
        "  print()"
      ],
      "metadata": {
        "id": "47z0lg9yE4ob",
        "colab": {
          "base_uri": "https://localhost:8080/"
        },
        "outputId": "40bc391b-bb5f-458c-cf0c-8bef044e4c9b"
      },
      "execution_count": 15,
      "outputs": [
        {
          "output_type": "stream",
          "name": "stdout",
          "text": [
            "Speaker1_Обучающая добавлен в обучающую выборку\n",
            "Speaker1.txt-5.txt добавлен в тестовую выборку\n",
            "\n",
            "Speaker2.txt-5.txt добавлен в тестовую выборку\n",
            "Speaker2_Обучающая добавлен в обучающую выборку\n",
            "\n",
            "Speaker3.txt-5.txt добавлен в тестовую выборку\n",
            "Speaker3_Обучающая добавлен в обучающую выборку\n",
            "\n",
            "Speaker4.txt-5.txt добавлен в тестовую выборку\n",
            "Speaker4_Обучающая добавлен в обучающую выборку\n",
            "\n"
          ]
        }
      ]
    },
    {
      "cell_type": "code",
      "source": [
        "print(len(trainText))\n",
        "print(len(trainText[0]))"
      ],
      "metadata": {
        "colab": {
          "base_uri": "https://localhost:8080/"
        },
        "id": "M55RHDIWh2N5",
        "outputId": "8833d883-f979-4761-a729-e524518417b7"
      },
      "execution_count": 16,
      "outputs": [
        {
          "output_type": "stream",
          "name": "stdout",
          "text": [
            "4\n",
            "67264\n"
          ]
        }
      ]
    },
    {
      "cell_type": "code",
      "source": [
        "#Преобразование текстовых данных в числовые и векторные для обучения нейросети"
      ],
      "metadata": {
        "id": "hCJIohNAKncX"
      },
      "execution_count": null,
      "outputs": []
    },
    {
      "cell_type": "code",
      "source": [
        "\n",
        "tokenizer.fit_on_texts(trainText)\n",
        "items = list(tokenizer.word_index.items())\n",
        "print('Время обработки: ', round(time.time() - cur_time, 2), 'c', sep='')"
      ],
      "metadata": {
        "id": "qVBmutYR8HL_",
        "colab": {
          "base_uri": "https://localhost:8080/"
        },
        "outputId": "1f048fee-61fd-4f3d-e593-5251faf2b98a"
      },
      "execution_count": 17,
      "outputs": [
        {
          "output_type": "stream",
          "name": "stdout",
          "text": [
            "Время обработки: 53.93c\n"
          ]
        }
      ]
    },
    {
      "cell_type": "code",
      "source": [
        "print(items[-10:])\n",
        "print(\"Размер словаря\", len(items))"
      ],
      "metadata": {
        "id": "m0SvipqhoTCF"
      },
      "execution_count": null,
      "outputs": []
    },
    {
      "cell_type": "code",
      "source": [
        "print(\"Интересующее слово имеет индекс: \", tokenizer.word_index[input(\"Уточните слово: \")])"
      ],
      "metadata": {
        "colab": {
          "base_uri": "https://localhost:8080/"
        },
        "id": "fozX-fqnB4SI",
        "outputId": "74b56740-4982-4c70-99bf-a7bf5d3affb0"
      },
      "execution_count": 19,
      "outputs": [
        {
          "output_type": "stream",
          "name": "stdout",
          "text": [
            "Уточните слово: масла\n",
            "Интересующее слово имеет индекс:  1471\n"
          ]
        }
      ]
    },
    {
      "cell_type": "code",
      "source": [
        "trainWordIndexes = tokenizer.texts_to_sequences(trainText)\n",
        "testWordIndexes = tokenizer.texts_to_sequences(testText)\n",
        "\n",
        "print(\"Взглянем на фрагмент обучающего текста:\")\n",
        "print(\"В виде оригинального текста:              \", trainText[1][:2049])\n",
        "print(\"Он же в виде последовательности индексов: \", trainWordIndexes[1][:1600], '\\n')"
      ],
      "metadata": {
        "id": "f9AQEt-5obM_"
      },
      "execution_count": null,
      "outputs": []
    },
    {
      "cell_type": "code",
      "source": [
        "tokenizer.texts_to_sequences(['масла'])"
      ],
      "metadata": {
        "colab": {
          "base_uri": "https://localhost:8080/"
        },
        "id": "oi6H4nDJDDIZ",
        "outputId": "df296fad-c938-424e-8bd6-b63bf533a965"
      },
      "execution_count": 21,
      "outputs": [
        {
          "output_type": "execute_result",
          "data": {
            "text/plain": [
              "[[1471]]"
            ]
          },
          "metadata": {},
          "execution_count": 21
        }
      ]
    },
    {
      "cell_type": "code",
      "source": [
        "print(\"Статистика по обучающим текстам:\")\n",
        "\n",
        "symbolsTrainText = 0\n",
        "wordsTrainText = 0\n",
        "\n",
        "for i in range(nClasses):\n",
        "  print(className[i], \" \"*(10-len(className[i])), len(trainText[i]), \"символов, \", len(trainWordIndexes[i]), \"слов\")\n",
        "  symbolsTrainText += len(trainText[i])\n",
        "  wordsTrainText += len(trainWordIndexes[i])\n",
        "\n",
        "print('----')\n",
        "print(\"В сумме \", symbolsTrainText, \" символов, \", wordsTrainText, \" слов \\n\")\n",
        "print()\n",
        "print(\"Статистика по тестовым текстам:\")\n",
        "\n",
        "symbolsTestText = 0\n",
        "wordsTestText = 0\n",
        "\n",
        "for i in range(nClasses):\n",
        "  print(className[i], ' '*(10-len(className[i])), len(testText[i]), \"символов, \", len(testWordIndexes[i]), \"слов\")\n",
        "  symbolsTestText += len(testText[i])\n",
        "  wordsTestText += len(testWordIndexes[i])\n",
        "print('----')\n",
        "print(\"В сумме \", symbolsTestText, \" символов, \", wordsTestText, \" слов\")"
      ],
      "metadata": {
        "colab": {
          "base_uri": "https://localhost:8080/"
        },
        "id": "AP4M8fcfDGlA",
        "outputId": "791c26eb-4dba-4ac1-f547-827a8557a45c"
      },
      "execution_count": 22,
      "outputs": [
        {
          "output_type": "stream",
          "name": "stdout",
          "text": [
            "Статистика по обучающим текстам:\n",
            "Speaker1    67264 символов,  11779 слов\n",
            "Speaker2    79529 символов,  13708 слов\n",
            "Speaker3    41757 символов,  7686 слов\n",
            "Speaker4    78460 символов,  13861 слов\n",
            "----\n",
            "В сумме  267010  символов,  47034  слов \n",
            "\n",
            "\n",
            "Статистика по тестовым текстам:\n",
            "Speaker1    17614 символов,  3007 слов\n",
            "Speaker2    16679 символов,  3031 слов\n",
            "Speaker3    9648 символов,  1862 слов\n",
            "Speaker4    17543 символов,  3225 слов\n",
            "----\n",
            "В сумме  61484  символов,  11125  слов\n"
          ]
        }
      ]
    },
    {
      "cell_type": "code",
      "source": [
        "#Создание обучающей и проверочной выборки"
      ],
      "metadata": {
        "id": "StAgoDx8K1R3"
      },
      "execution_count": null,
      "outputs": []
    },
    {
      "cell_type": "code",
      "source": [
        "def getSetFromIndexes(wordIndexes, xLen, step):\n",
        "  xSample = []\n",
        "  wordsLen = len(wordIndexes)\n",
        "  index = 0\n",
        "\n",
        "  while (index + xLen <= wordsLen):\n",
        "    xSample.append(wordIndexes[index:index+xLen])\n",
        "    index += step\n",
        "\n",
        "  return xSample\n",
        "\n",
        "\n",
        "def createSetsMultiClasses(wordIndexes, xLen, step):\n",
        "\n",
        "  nClasses = len(wordIndexes)\n",
        "  classesXSamples = []\n",
        "  for wI in wordIndexes:\n",
        "    classesXSamples.append(getSetFromIndexes(wI, xLen, step))\n",
        "\n",
        "\n",
        "  xSamples = []\n",
        "  ySamples = []\n",
        "\n",
        "  for t in range(nClasses):\n",
        "    xT = classesXSamples[t]\n",
        "    for i in range(len(xT)):\n",
        "      xSamples.append(xT[i])\n",
        "      ySamples.append(utils.to_categorical(t, nClasses))\n",
        "\n",
        "  xSamples = np.array(xSamples)\n",
        "  ySamples = np.array(ySamples)\n",
        "\n",
        "\n",
        "  return (xSamples, ySamples)\n",
        "\n",
        "#Подготовка данных\n",
        "\n",
        "xLen = 800\n",
        "step = 4\n",
        "\n",
        "\n",
        "cur_time = time.time()\n",
        "\n",
        "xTrain, yTrain = createSetsMultiClasses(trainWordIndexes, xLen, step)\n",
        "xTest, yTest = createSetsMultiClasses(testWordIndexes, xLen, step)\n",
        "print(xTrain.shape)\n",
        "print(yTrain.shape)\n",
        "print(xTest.shape)\n",
        "print(yTest.shape)\n",
        "\n",
        "print('Время обработки: ', round(time.time() - cur_time, 2), 'c', sep='')"
      ],
      "metadata": {
        "colab": {
          "base_uri": "https://localhost:8080/"
        },
        "id": "AS1iXKczjV8F",
        "outputId": "4f2268a2-c486-4417-836d-d28912645a97"
      },
      "execution_count": 23,
      "outputs": [
        {
          "output_type": "stream",
          "name": "stdout",
          "text": [
            "(10961, 800)\n",
            "(10961, 4)\n",
            "(1983, 800)\n",
            "(1983, 4)\n",
            "Время обработки: 1.14c\n"
          ]
        }
      ]
    },
    {
      "cell_type": "code",
      "source": [
        "tokenizer.sequences_to_texts([xTrain[0][100:]])"
      ],
      "metadata": {
        "id": "UsqJL2Zuonsu"
      },
      "execution_count": null,
      "outputs": []
    },
    {
      "cell_type": "code",
      "source": [
        "tokenizer.sequences_to_texts([xTrain[1]])"
      ],
      "metadata": {
        "id": "0UZ6ys13opY8"
      },
      "execution_count": null,
      "outputs": []
    },
    {
      "cell_type": "code",
      "source": [
        "cur_time = time.time()\n",
        "\n",
        "xTrain01 = tokenizer.sequences_to_matrix(xTrain.tolist())\n",
        "xTest01 = tokenizer.sequences_to_matrix(xTest.tolist())\n",
        "\n",
        "print(xTrain01.shape)\n",
        "print(xTrain01[0][0:100])\n",
        "print('Время обработки: ', round(time.time() - cur_time, 2), 'c', sep='')"
      ],
      "metadata": {
        "colab": {
          "base_uri": "https://localhost:8080/"
        },
        "id": "bEpjPSt2Dwe4",
        "outputId": "2fd062f9-a7a4-4ea0-fb30-a9657a329087"
      },
      "execution_count": 26,
      "outputs": [
        {
          "output_type": "stream",
          "name": "stdout",
          "text": [
            "(10961, 71000)\n",
            "[0. 0. 1. 0. 1. 1. 1. 1. 1. 1. 1. 1. 1. 1. 1. 1. 1. 1. 1. 1. 1. 1. 1. 1.\n",
            " 1. 1. 1. 1. 1. 0. 1. 1. 1. 0. 1. 1. 0. 0. 1. 1. 1. 0. 0. 1. 1. 1. 0. 0.\n",
            " 0. 1. 1. 1. 1. 1. 0. 1. 1. 1. 1. 0. 1. 0. 1. 1. 1. 1. 1. 0. 1. 1. 1. 1.\n",
            " 1. 1. 0. 1. 1. 1. 1. 1. 1. 1. 1. 1. 1. 1. 1. 1. 1. 1. 0. 1. 1. 1. 1. 1.\n",
            " 0. 1. 1. 0.]\n",
            "Время обработки: 3.96c\n"
          ]
        }
      ]
    },
    {
      "cell_type": "code",
      "source": [
        "for i in range(100):\n",
        "  print(int(i in xTrain[0]),end=' ')"
      ],
      "metadata": {
        "colab": {
          "base_uri": "https://localhost:8080/"
        },
        "id": "9I105mIQDy0Q",
        "outputId": "2d5331af-7b21-4cb3-c945-2fa00ac644f6"
      },
      "execution_count": 27,
      "outputs": [
        {
          "output_type": "stream",
          "name": "stdout",
          "text": [
            "0 0 1 0 1 1 1 1 1 1 1 1 1 1 1 1 1 1 1 1 1 1 1 1 1 1 1 1 1 0 1 1 1 0 1 1 0 0 1 1 1 0 0 1 1 1 0 0 0 1 1 1 1 1 0 1 1 1 1 0 1 0 1 1 1 1 1 0 1 1 1 1 1 1 0 1 1 1 1 1 1 1 1 1 1 1 1 1 1 1 0 1 1 1 1 1 0 1 1 0 "
          ]
        }
      ]
    },
    {
      "cell_type": "code",
      "source": [
        "#Нейросеть"
      ],
      "metadata": {
        "id": "ef6lZmo4KvPH"
      },
      "execution_count": null,
      "outputs": []
    },
    {
      "cell_type": "code",
      "source": [
        "trainDataGen = TimeseriesGenerator(xTrain, yTrain,\n",
        "                               length=xLen, stride=1, sampling_rate=1,\n",
        "                               batch_size=128)\n",
        "\n",
        "\n",
        "testDataGen = TimeseriesGenerator(xTest, yTest,\n",
        "                               length=xLen, stride=1,\n",
        "                               batch_size=128)"
      ],
      "metadata": {
        "id": "x4EPWD2Vb7fK"
      },
      "execution_count": 39,
      "outputs": []
    },
    {
      "cell_type": "code",
      "source": [
        "target_classes = [\"Speaker1\", \"Speaker2\", \"Speaker3\", \"Speaker4\"]\n",
        "\n",
        "max_tokens=800\n",
        "\n",
        "xTrain_pad = pad_sequences(xTrain, maxlen=max_tokens, padding=\"post\", truncating=\"post\", value=0)\n",
        "xTest_pad  = pad_sequences(xTest , maxlen=max_tokens, padding=\"post\", truncating=\"post\", value=0)\n",
        "\n",
        "xTrain_pad.shape, xTest_pad.shape\n",
        "\n",
        "\n",
        "embed_len = 44\n",
        "lstm_out = 44\n",
        "\n",
        "model = Sequential([\n",
        "                    Embedding(input_dim=len(tokenizer.word_index)+1, output_dim=embed_len,  input_length=max_tokens),\n",
        "                    LSTM(lstm_out),\n",
        "                    Dense(len(target_classes), activation=\"softmax\")\n",
        "                ])\n",
        "\n",
        "model.summary()"
      ],
      "metadata": {
        "colab": {
          "base_uri": "https://localhost:8080/"
        },
        "id": "C4dAvKj3cAyy",
        "outputId": "f08de25c-b563-4cd5-f50c-f4c7e72ac894"
      },
      "execution_count": 40,
      "outputs": [
        {
          "output_type": "stream",
          "name": "stdout",
          "text": [
            "Model: \"sequential_1\"\n",
            "_________________________________________________________________\n",
            " Layer (type)                Output Shape              Param #   \n",
            "=================================================================\n",
            " embedding_1 (Embedding)     (None, 800, 44)           161920    \n",
            "                                                                 \n",
            " lstm_1 (LSTM)               (None, 44)                15664     \n",
            "                                                                 \n",
            " dense_1 (Dense)             (None, 4)                 180       \n",
            "                                                                 \n",
            "=================================================================\n",
            "Total params: 177,764\n",
            "Trainable params: 177,764\n",
            "Non-trainable params: 0\n",
            "_________________________________________________________________\n"
          ]
        }
      ]
    },
    {
      "cell_type": "code",
      "source": [
        "model.compile(loss=\"mse\", optimizer=Adam(learning_rate=1e-4))\n",
        "\n",
        "history = model.fit(xTrain,\n",
        "                    yTrain,\n",
        "                    epochs=44,\n",
        "                    batch_size=128,\n",
        "                    validation_data=(xTest, yTest))"
      ],
      "metadata": {
        "colab": {
          "base_uri": "https://localhost:8080/"
        },
        "id": "feE67Hq8cKpq",
        "outputId": "46778f42-11b2-4c1c-9a5b-f3414e0eea30"
      },
      "execution_count": 41,
      "outputs": [
        {
          "output_type": "stream",
          "name": "stderr",
          "text": [
            "WARNING:absl:`lr` is deprecated in Keras optimizer, please use `learning_rate` or use the legacy optimizer, e.g.,tf.keras.optimizers.legacy.Adam.\n"
          ]
        },
        {
          "output_type": "stream",
          "name": "stdout",
          "text": [
            "Epoch 1/44\n",
            "86/86 [==============================] - 83s 918ms/step - loss: 0.1787 - val_loss: 0.1803\n",
            "Epoch 2/44\n",
            "86/86 [==============================] - 77s 902ms/step - loss: 0.1415 - val_loss: 0.1810\n",
            "Epoch 3/44\n",
            "86/86 [==============================] - 78s 903ms/step - loss: 0.0486 - val_loss: 0.1542\n",
            "Epoch 4/44\n",
            "86/86 [==============================] - 80s 930ms/step - loss: 0.0475 - val_loss: 0.1137\n",
            "Epoch 5/44\n",
            "86/86 [==============================] - 84s 985ms/step - loss: 0.0661 - val_loss: 0.1570\n",
            "Epoch 6/44\n",
            "86/86 [==============================] - 78s 899ms/step - loss: 0.0374 - val_loss: 0.1688\n",
            "Epoch 7/44\n",
            "86/86 [==============================] - 78s 907ms/step - loss: 0.0353 - val_loss: 0.1730\n",
            "Epoch 8/44\n",
            "86/86 [==============================] - 77s 894ms/step - loss: 0.0402 - val_loss: 0.1697\n",
            "Epoch 9/44\n",
            "86/86 [==============================] - 78s 904ms/step - loss: 0.0265 - val_loss: 0.2082\n",
            "Epoch 10/44\n",
            "86/86 [==============================] - 77s 892ms/step - loss: 0.0146 - val_loss: 0.2228\n",
            "Epoch 11/44\n",
            "86/86 [==============================] - 78s 915ms/step - loss: 0.0054 - val_loss: 0.2108\n",
            "Epoch 12/44\n",
            "86/86 [==============================] - 78s 908ms/step - loss: 0.0023 - val_loss: 0.2545\n",
            "Epoch 13/44\n",
            "86/86 [==============================] - 77s 888ms/step - loss: 0.0016 - val_loss: 0.2601\n",
            "Epoch 14/44\n",
            "86/86 [==============================] - 79s 916ms/step - loss: 0.0026 - val_loss: 0.2667\n",
            "Epoch 15/44\n",
            "86/86 [==============================] - 77s 894ms/step - loss: 0.0023 - val_loss: 0.2278\n",
            "Epoch 16/44\n",
            "86/86 [==============================] - 79s 915ms/step - loss: 0.0010 - val_loss: 0.2276\n",
            "Epoch 17/44\n",
            "86/86 [==============================] - 83s 967ms/step - loss: 0.0011 - val_loss: 0.2336\n",
            "Epoch 18/44\n",
            "86/86 [==============================] - 79s 916ms/step - loss: 8.0562e-04 - val_loss: 0.1968\n",
            "Epoch 19/44\n",
            "86/86 [==============================] - 78s 900ms/step - loss: 6.0095e-04 - val_loss: 0.2123\n",
            "Epoch 20/44\n",
            "86/86 [==============================] - 81s 942ms/step - loss: 7.5460e-04 - val_loss: 0.1963\n",
            "Epoch 21/44\n",
            "86/86 [==============================] - 78s 907ms/step - loss: 9.4201e-04 - val_loss: 0.2398\n",
            "Epoch 22/44\n",
            "86/86 [==============================] - 77s 895ms/step - loss: 6.6104e-04 - val_loss: 0.2305\n",
            "Epoch 23/44\n",
            "86/86 [==============================] - 80s 936ms/step - loss: 6.4663e-04 - val_loss: 0.2213\n",
            "Epoch 24/44\n",
            "86/86 [==============================] - 79s 925ms/step - loss: 6.0274e-04 - val_loss: 0.2216\n",
            "Epoch 25/44\n",
            "86/86 [==============================] - 77s 893ms/step - loss: 4.6206e-04 - val_loss: 0.2336\n",
            "Epoch 26/44\n",
            "86/86 [==============================] - 77s 898ms/step - loss: 4.5089e-04 - val_loss: 0.2294\n",
            "Epoch 27/44\n",
            "86/86 [==============================] - 81s 941ms/step - loss: 6.6021e-04 - val_loss: 0.2052\n",
            "Epoch 28/44\n",
            "86/86 [==============================] - 79s 911ms/step - loss: 5.8000e-04 - val_loss: 0.1938\n",
            "Epoch 29/44\n",
            "86/86 [==============================] - 77s 898ms/step - loss: 5.7085e-04 - val_loss: 0.1980\n",
            "Epoch 30/44\n",
            "86/86 [==============================] - 80s 938ms/step - loss: 5.6057e-04 - val_loss: 0.1995\n",
            "Epoch 31/44\n",
            "86/86 [==============================] - 79s 922ms/step - loss: 4.6433e-04 - val_loss: 0.2178\n",
            "Epoch 32/44\n",
            "86/86 [==============================] - 77s 901ms/step - loss: 2.1456e-04 - val_loss: 0.1858\n",
            "Epoch 33/44\n",
            "86/86 [==============================] - 80s 929ms/step - loss: 0.0013 - val_loss: 0.1317\n",
            "Epoch 34/44\n",
            "86/86 [==============================] - 78s 911ms/step - loss: 1.4240e-04 - val_loss: 0.1894\n",
            "Epoch 35/44\n",
            "86/86 [==============================] - 78s 903ms/step - loss: 0.0331 - val_loss: 0.2414\n",
            "Epoch 36/44\n",
            "86/86 [==============================] - 78s 907ms/step - loss: 0.0103 - val_loss: 0.1460\n",
            "Epoch 37/44\n",
            "86/86 [==============================] - 80s 929ms/step - loss: 0.1270 - val_loss: 0.2530\n",
            "Epoch 38/44\n",
            "86/86 [==============================] - 77s 897ms/step - loss: 0.1092 - val_loss: 0.1842\n",
            "Epoch 39/44\n",
            "86/86 [==============================] - 78s 912ms/step - loss: 0.0566 - val_loss: 0.1234\n",
            "Epoch 40/44\n",
            "86/86 [==============================] - 80s 922ms/step - loss: 0.0332 - val_loss: 0.2196\n",
            "Epoch 41/44\n",
            "86/86 [==============================] - 77s 898ms/step - loss: 0.0048 - val_loss: 0.1283\n",
            "Epoch 42/44\n",
            "86/86 [==============================] - 84s 983ms/step - loss: 8.9627e-04 - val_loss: 0.1360\n",
            "Epoch 43/44\n",
            "86/86 [==============================] - 81s 943ms/step - loss: 6.9703e-04 - val_loss: 0.1333\n",
            "Epoch 44/44\n",
            "86/86 [==============================] - 79s 919ms/step - loss: 6.1087e-04 - val_loss: 0.1541\n"
          ]
        }
      ]
    },
    {
      "cell_type": "code",
      "source": [
        "plt.plot(history.history['loss'],\n",
        "         label='Доля верных ответов на обучающем наборе')\n",
        "plt.plot(history.history['val_loss'],\n",
        "         label='Доля верных ответов на проверочном наборе')\n",
        "plt.xlabel('Эпоха обучения')\n",
        "plt.ylabel('Доля верных ответов')\n",
        "plt.legend()\n",
        "plt.show()"
      ],
      "metadata": {
        "colab": {
          "base_uri": "https://localhost:8080/",
          "height": 449
        },
        "id": "w1NDeJKZBQnC",
        "outputId": "cae38b15-edef-4838-8568-5a51dedf06ab"
      },
      "execution_count": 42,
      "outputs": [
        {
          "output_type": "display_data",
          "data": {
            "text/plain": [
              "<Figure size 640x480 with 1 Axes>"
            ],
            "image/png": "[encoded data removed]"
          },
          "metadata": {}
        }
      ]
    },
    {
      "cell_type": "code",
      "source": [
        "model.save_weights('model.h5')"
      ],
      "metadata": {
        "id": "EM_4r9yyaYSh"
      },
      "execution_count": 43,
      "outputs": []
    },
    {
      "cell_type": "code",
      "source": [
        "model.load_weights('model.h5')"
      ],
      "metadata": {
        "id": "7muR7_RNaa9S"
      },
      "execution_count": 44,
      "outputs": []
    },
    {
      "cell_type": "code",
      "source": [
        "#Распознавание проверочной выборки"
      ],
      "metadata": {
        "id": "zpXztNV9bXck"
      },
      "execution_count": null,
      "outputs": []
    },
    {
      "cell_type": "code",
      "source": [
        "def createTestMultiClasses(wordIndexes, xLen, step):\n",
        "\n",
        "\n",
        "  nClasses = len(wordIndexes)\n",
        "  xTest4Classes01 = []\n",
        "  xTest4Classes = []\n",
        "  for wI in wordIndexes:\n",
        "    sample = (getSetFromIndexes(wI, xLen, step))\n",
        "    xTest4Classes.append(sample)\n",
        "    xTest4Classes01.append(tokenizer.sequences_to_matrix(sample))\n",
        "  xTest4Classes01 = np.array((xTest4Classes01), dtype=object)\n",
        "  xTest4Classes = np.array((xTest4Classes), dtype=object)\n",
        "\n",
        "  return xTest4Classes01, xTest4Classes\n",
        "\n",
        "\n",
        "def recognizeMultiClass(model, xTest, modelName):\n",
        "  print(\"НЕЙРОНКА: \", modelName)\n",
        "  print()\n",
        "\n",
        "  totalSumRec = 0\n",
        "\n",
        "\n",
        "  for i in range(nClasses):\n",
        "    currPred = model.predict(xTest[i])\n",
        "    currOut = np.argmax(currPred, axis=1)\n",
        "\n",
        "    evVal = []\n",
        "    for j in range(nClasses):\n",
        "      evVal.append(len(currOut[currOut==j])/len(xTest[i]))\n",
        "\n",
        "    totalSumRec += len(currOut[currOut==i])\n",
        "    recognizedClass = np.argmax(evVal)\n",
        "\n",
        "\n",
        "    isRecognized = \"Это НЕПРАВИЛЬНЫЙ ответ!\"\n",
        "    if (recognizedClass == i):\n",
        "      isRecognized = \"Это ПРАВИЛЬНЫЙ ответ!\"\n",
        "    str1 = 'Класс: ' + className[i] + \" \" * (11 - len(className[i])) + str(int(100*evVal[i])) + \"% сеть отнесла к классу \" + className[recognizedClass]\n",
        "    print(str1, \" \" * (55-len(str1)), isRecognized, sep='')\n",
        "\n",
        "\n",
        "  print()\n",
        "  sumCount = 0\n",
        "  for i in range(nClasses):\n",
        "    sumCount += len(xTest[i])\n",
        "  print(\"Средний процент распознавания \", int(100*totalSumRec/sumCount), \"%\", sep='')\n",
        "\n",
        "  print()\n",
        "\n",
        "  return totalSumRec/sumCount"
      ],
      "metadata": {
        "id": "SRcXUJdxbGSy"
      },
      "execution_count": 45,
      "outputs": []
    },
    {
      "cell_type": "code",
      "source": [
        "xTest4Classes01, x2 = createTestMultiClasses(testWordIndexes, xLen, step)"
      ],
      "metadata": {
        "id": "cjP63IepbLbZ",
        "colab": {
          "base_uri": "https://localhost:8080/"
        },
        "outputId": "b61ed810-75ea-46f1-b063-5e5de7524bfd"
      },
      "execution_count": 46,
      "outputs": [
        {
          "output_type": "stream",
          "name": "stderr",
          "text": [
            "<ipython-input-45-cf34fb4f7870>:11: VisibleDeprecationWarning: Creating an ndarray from ragged nested sequences (which is a list-or-tuple of lists-or-tuples-or ndarrays with different lengths or shapes) is deprecated. If you meant to do this, you must specify 'dtype=object' when creating the ndarray.\n",
            "  xTest4Classes01 = np.array(xTest4Classes01)\n",
            "<ipython-input-45-cf34fb4f7870>:12: VisibleDeprecationWarning: Creating an ndarray from ragged nested sequences (which is a list-or-tuple of lists-or-tuples-or ndarrays with different lengths or shapes) is deprecated. If you meant to do this, you must specify 'dtype=object' when creating the ndarray.\n",
            "  xTest4Classes = np.array(xTest4Classes)\n"
          ]
        }
      ]
    },
    {
      "cell_type": "code",
      "source": [
        "l = np.array((xTest4Classes01), dtype=object)\n",
        "np.save('drive/MyDrive/Нейросети/xTestPredictBoW', l)\n",
        "np.save('drive/MyDrive/Нейросети/xTestPredictEmbedding', x2)"
      ],
      "metadata": {
        "id": "5fLQwZALbR2q"
      },
      "execution_count": 47,
      "outputs": []
    },
    {
      "cell_type": "code",
      "source": [
        "_, xTest4Classes = createTestMultiClasses(testWordIndexes, xLen, step)\n",
        "pred = recognizeMultiClass(model, xTest4Classes, \"Embedding + Dense\")"
      ],
      "metadata": {
        "colab": {
          "base_uri": "https://localhost:8080/"
        },
        "id": "86kfon0baeBy",
        "outputId": "ecfadc9c-f277-44f4-97cc-506e4cd39e94"
      },
      "execution_count": 48,
      "outputs": [
        {
          "output_type": "stream",
          "name": "stderr",
          "text": [
            "<ipython-input-45-cf34fb4f7870>:11: VisibleDeprecationWarning: Creating an ndarray from ragged nested sequences (which is a list-or-tuple of lists-or-tuples-or ndarrays with different lengths or shapes) is deprecated. If you meant to do this, you must specify 'dtype=object' when creating the ndarray.\n",
            "  xTest4Classes01 = np.array(xTest4Classes01)\n",
            "<ipython-input-45-cf34fb4f7870>:12: VisibleDeprecationWarning: Creating an ndarray from ragged nested sequences (which is a list-or-tuple of lists-or-tuples-or ndarrays with different lengths or shapes) is deprecated. If you meant to do this, you must specify 'dtype=object' when creating the ndarray.\n",
            "  xTest4Classes = np.array(xTest4Classes)\n"
          ]
        },
        {
          "output_type": "stream",
          "name": "stdout",
          "text": [
            "НЕЙРОНКА:  Embedding + Dense\n",
            "\n",
            "18/18 [==============================] - 5s 208ms/step\n",
            "Класс: Speaker1   92% сеть отнесла к классу Speaker1   Это ПРАВИЛЬНЫЙ ответ!\n",
            "18/18 [==============================] - 4s 227ms/step\n",
            "Класс: Speaker2   91% сеть отнесла к классу Speaker2   Это ПРАВИЛЬНЫЙ ответ!\n",
            "9/9 [==============================] - 1s 93ms/step\n",
            "Класс: Speaker3   22% сеть отнесла к классу Speaker4   Это НЕПРАВИЛЬНЫЙ ответ!\n",
            "19/19 [==============================] - 2s 92ms/step\n",
            "Класс: Speaker4   41% сеть отнесла к классу Speaker4   Это ПРАВИЛЬНЫЙ ответ!\n",
            "\n",
            "Средний процент распознавания 67%\n",
            "\n"
          ]
        }
      ]
    }
  ]
}